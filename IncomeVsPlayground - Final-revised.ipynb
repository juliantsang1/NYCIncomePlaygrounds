{
 "cells": [
  {
   "cell_type": "markdown",
   "metadata": {
    "deletable": true,
    "editable": true
   },
   "source": [
    "# Case Study: Is there a relationship between playground availability and household income in New York City?"
   ]
  },
  {
   "cell_type": "markdown",
   "metadata": {
    "deletable": true,
    "editable": true
   },
   "source": [
    "First, we import the relevant Python libraries and load the relevant datasets. The parks and playground datasets were taken from the NYC Open Data website. The income dataset was taken from the IRS website. <br>\n",
    "<br>\n",
    "Directory of Parks - Updated September 2018 <br>\n",
    "https://data.cityofnewyork.us/Recreation/Directory-of-Parks/79me-a7rs <br>\n",
    "<br>\n",
    "Directory of Playgrounds - Updated January 2019 <br>\n",
    "https://data.cityofnewyork.us/Environment/Directory-of-Playgrounds/59gn-q4ai <br>\n",
    "<br>\n",
    "Individual Income Tax Statistics by Zip Code - Updated 2016 <br>\n",
    "https://www.irs.gov/statistics/soi-tax-stats-individual-income-tax-statistics-2016-zip-code-data-soi <br>\n",
    "<br>\n",
    "<br>\n",
    "For optimal results, run the cells in sequence. This notebook requires numpy, pandas, and folium packages."
   ]
  },
  {
   "cell_type": "code",
   "execution_count": 1,
   "metadata": {
    "collapsed": true,
    "deletable": true,
    "editable": true
   },
   "outputs": [],
   "source": [
    "import numpy as np\n",
    "import pandas as pd"
   ]
  },
  {
   "cell_type": "code",
   "execution_count": 2,
   "metadata": {
    "collapsed": true,
    "deletable": true,
    "editable": true
   },
   "outputs": [],
   "source": [
    "df_park = pd.read_json('DPR_Parks_001.json')\n",
    "df_playground = pd.read_json('DPR_Playgrounds_001.json')\n",
    "df_income = pd.read_csv('16zpallagi.csv')"
   ]
  },
  {
   "cell_type": "markdown",
   "metadata": {
    "deletable": true,
    "editable": true
   },
   "source": [
    "# Cleaning the Parks and Playgrounds Datasets"
   ]
  },
  {
   "cell_type": "markdown",
   "metadata": {
    "deletable": true,
    "editable": true
   },
   "source": [
    "There are 1673 total rows in the Parks dataset. However, the Parks dataset is incomplete. 1442 parks are labeled with a zipcode. 125 parks have multiple zip codes. 106 parks have no zipcodes. Each park has a unique identifier, Prop_ID. \n",
    "\n",
    "There are 1269 total rows in the Playgrounds dataset.  All 1269 playgrounds have a Prop_ID that would link them to a park. However, 234 school playgrounds have Prop_IDs formatted differently than those of regular parks. 1245 playgrounds have latitude and longitude data. Furthermore, the Playgrounds dataset does not include a zip code column, but does include address data, some of which may include a zip code. Since not all playgrounds have zip codes or have matching Prop_IDs, the best way to identify each playground is by its name. "
   ]
  },
  {
   "cell_type": "code",
   "execution_count": 3,
   "metadata": {
    "collapsed": false,
    "deletable": true,
    "editable": true
   },
   "outputs": [
    {
     "name": "stdout",
     "output_type": "stream",
     "text": [
      "A sample row: school ID = K006\n"
     ]
    },
    {
     "data": {
      "text/html": [
       "<div>\n",
       "<table border=\"1\" class=\"dataframe\">\n",
       "  <thead>\n",
       "    <tr style=\"text-align: right;\">\n",
       "      <th></th>\n",
       "      <th>Accessible</th>\n",
       "      <th>Adaptive_Swing</th>\n",
       "      <th>Level</th>\n",
       "      <th>Location</th>\n",
       "      <th>Name</th>\n",
       "      <th>Playground_ID</th>\n",
       "      <th>Prop_ID</th>\n",
       "      <th>School_ID</th>\n",
       "      <th>Status</th>\n",
       "      <th>lat</th>\n",
       "      <th>lon</th>\n",
       "      <th>zipcode</th>\n",
       "    </tr>\n",
       "  </thead>\n",
       "  <tbody>\n",
       "    <tr>\n",
       "      <th>1003</th>\n",
       "      <td>Y</td>\n",
       "      <td>N</td>\n",
       "      <td>4.0</td>\n",
       "      <td>43 Snyder Ave, Brooklyn, NY 11226</td>\n",
       "      <td>PS 6K</td>\n",
       "      <td>None</td>\n",
       "      <td>B</td>\n",
       "      <td>K006</td>\n",
       "      <td>Open to the Public</td>\n",
       "      <td>40.6489</td>\n",
       "      <td>-73.9566</td>\n",
       "      <td>11226</td>\n",
       "    </tr>\n",
       "  </tbody>\n",
       "</table>\n",
       "</div>"
      ],
      "text/plain": [
       "     Accessible Adaptive_Swing  Level                           Location  \\\n",
       "1003          Y              N    4.0  43 Snyder Ave, Brooklyn, NY 11226   \n",
       "\n",
       "       Name Playground_ID Prop_ID School_ID              Status      lat  \\\n",
       "1003  PS 6K          None       B      K006  Open to the Public  40.6489   \n",
       "\n",
       "          lon zipcode  \n",
       "1003 -73.9566   11226  "
      ]
     },
     "execution_count": 3,
     "metadata": {},
     "output_type": "execute_result"
    }
   ],
   "source": [
    "#extract the zipcode from the address found in Location column\n",
    "df_playground['zipcode'] = df_playground['Location'].str.extract('(\\d\\d\\d\\d\\d)', expand=True)\n",
    "print(\"A sample row: school ID = K006\")\n",
    "df_playground[df_playground['School_ID']=='K006']"
   ]
  },
  {
   "cell_type": "markdown",
   "metadata": {
    "deletable": true,
    "editable": true
   },
   "source": [
    "We have to figure out a way to combine the Parks and Playgrounds datasets. We can merge the datasets using an Outer Join, linking each dataset by the Prop_ID column that they both share, while preserving any other data that would have been lost from an inner join. Let's call this the AllParks dataset.\n",
    "\n",
    "Ultimately, even though not all parks and playgrounds have zipcodes associated with them, the Zipcode column is the best way to link the AllParks dataset with the Income dataset. Because of this, not every park and playground will be included in the final result.\n",
    "\n",
    "For the purposes of this analysis, the combined park and playground dataset will include 1413 parks and 1037 playgrounds."
   ]
  },
  {
   "cell_type": "code",
   "execution_count": 4,
   "metadata": {
    "collapsed": false,
    "deletable": true,
    "editable": true,
    "scrolled": true
   },
   "outputs": [
    {
     "name": "stdout",
     "output_type": "stream",
     "text": [
      "Count of Parks and Playgrounds (multiple zipcodes):\n",
      "\n",
      "\n",
      "Zipcode                1121111201100021121210314113771030111206104571...\n",
      "No. of Parks                                                        1537\n",
      "No. of Playgrounds                                                  1208\n",
      "char_length_zipcode                                                 2916\n",
      "dtype: object\n",
      "\n",
      "\n",
      "\n",
      "\n",
      "Count of Parks and Playgrounds (multiple zipcodes removed):\n",
      "\n",
      "\n",
      "Zipcode                        inf\n",
      "No. of Parks           1413.000000\n",
      "No. of Playgrounds     1037.000000\n",
      "char_length_zipcode     860.000000\n",
      "dtype: float64\n"
     ]
    }
   ],
   "source": [
    "#combine the park and playground datasets based on their zip codes. Not every park and playground will be included\n",
    "#due to the fact that some parks and playgrounds don't have zip codes.\n",
    "\n",
    "df_allparks = pd.merge(df_park,df_playground,on='Prop_ID',how='outer')\n",
    "\n",
    "#Combine the zipcodes from the park dataset with the zipcodes from the playground dataset into one column\n",
    "df_allparks = pd.concat([df_allparks['Name_x'],df_allparks['Name_y'],df_allparks['Zip'].combine_first(df_allparks['zipcode'])],axis=1)\n",
    "\n",
    "#Because of the outer join, we only want to count unique names for parks and playgrounds to avoid overcounting\n",
    "df_allparks = df_allparks.groupby('Zip', as_index=False).agg({'Name_x':'nunique','Name_y':'nunique'}).sort_values(by=['Name_x'],ascending=False)\n",
    "\n",
    "#Rename the columns\n",
    "df_allparks = df_allparks.rename(columns = {'Zip':'Zipcode','Name_x':'No. of Parks','Name_y':'No. of Playgrounds'})\n",
    "df_allparks = df_allparks[['Zipcode','No. of Parks','No. of Playgrounds']]\n",
    "\n",
    "#Because some rows have multiple zipcodes, we could eliminate them because they won't fit with our income dataset\n",
    "#create a new column that counts the number of characters in the Zipcode column. A character count \n",
    "#greater than 5 indicates the row has more than one zipcode\n",
    "df_allparks['char_length_zipcode'] = df_allparks['Zipcode'].str.len()\n",
    "df_allparksCompatible = df_allparks[df_allparks['char_length_zipcode']==5]\n",
    "\n",
    "print('Count of Parks and Playgrounds (multiple zipcodes):')\n",
    "print('\\n')\n",
    "print(df_allparks.sum())\n",
    "print('\\n')\n",
    "#there are 1537 parks and 1208 playgrounds in our cleaned-up AllParks dataset\n",
    "#this dataset includes parks/playgrounds with multiple zipcodes\n",
    "\n",
    "print('\\n')\n",
    "print('Count of Parks and Playgrounds (multiple zipcodes removed):')\n",
    "print('\\n')\n",
    "print(df_allparksCompatible.sum())\n",
    "#there are 1413 parks and 1037 playgrounds in the Compatible AllParks dataset\n",
    "#this dataset excludes parks/playgrounds with multiple zipcodes and is more compatible\n",
    "#with comparing against income dataset\n"
   ]
  },
  {
   "cell_type": "code",
   "execution_count": 5,
   "metadata": {
    "collapsed": false
   },
   "outputs": [
    {
     "data": {
      "text/html": [
       "<div>\n",
       "<table border=\"1\" class=\"dataframe\">\n",
       "  <thead>\n",
       "    <tr style=\"text-align: right;\">\n",
       "      <th></th>\n",
       "      <th>Zipcode</th>\n",
       "      <th>No. of Parks</th>\n",
       "      <th>No. of Playgrounds</th>\n",
       "      <th>char_length_zipcode</th>\n",
       "    </tr>\n",
       "  </thead>\n",
       "  <tbody>\n",
       "    <tr>\n",
       "      <th>170</th>\n",
       "      <td>11211</td>\n",
       "      <td>40</td>\n",
       "      <td>13</td>\n",
       "      <td>5</td>\n",
       "    </tr>\n",
       "    <tr>\n",
       "      <th>149</th>\n",
       "      <td>11201</td>\n",
       "      <td>27</td>\n",
       "      <td>10</td>\n",
       "      <td>5</td>\n",
       "    </tr>\n",
       "    <tr>\n",
       "      <th>3</th>\n",
       "      <td>10002</td>\n",
       "      <td>25</td>\n",
       "      <td>23</td>\n",
       "      <td>5</td>\n",
       "    </tr>\n",
       "    <tr>\n",
       "      <th>172</th>\n",
       "      <td>11212</td>\n",
       "      <td>22</td>\n",
       "      <td>19</td>\n",
       "      <td>5</td>\n",
       "    </tr>\n",
       "    <tr>\n",
       "      <th>89</th>\n",
       "      <td>10314</td>\n",
       "      <td>21</td>\n",
       "      <td>12</td>\n",
       "      <td>5</td>\n",
       "    </tr>\n",
       "  </tbody>\n",
       "</table>\n",
       "</div>"
      ],
      "text/plain": [
       "    Zipcode  No. of Parks  No. of Playgrounds  char_length_zipcode\n",
       "170   11211            40                  13                    5\n",
       "149   11201            27                  10                    5\n",
       "3     10002            25                  23                    5\n",
       "172   11212            22                  19                    5\n",
       "89    10314            21                  12                    5"
      ]
     },
     "execution_count": 5,
     "metadata": {},
     "output_type": "execute_result"
    }
   ],
   "source": [
    "df_allparksCompatible.head()"
   ]
  },
  {
   "cell_type": "markdown",
   "metadata": {
    "deletable": true,
    "editable": true
   },
   "source": [
    "# Cleaning the Income Dataset\n",
    "The IRS Income dataset includes data from all 50 US states. We only want income data from New York, so we filter the dataset.\n"
   ]
  },
  {
   "cell_type": "code",
   "execution_count": 6,
   "metadata": {
    "collapsed": false,
    "deletable": true,
    "editable": true
   },
   "outputs": [
    {
     "data": {
      "text/html": [
       "<div>\n",
       "<table border=\"1\" class=\"dataframe\">\n",
       "  <thead>\n",
       "    <tr style=\"text-align: right;\">\n",
       "      <th></th>\n",
       "      <th>STATEFIPS</th>\n",
       "      <th>STATE</th>\n",
       "      <th>zipcode</th>\n",
       "      <th>agi_stub</th>\n",
       "      <th>N1</th>\n",
       "      <th>mars1</th>\n",
       "      <th>MARS2</th>\n",
       "      <th>MARS4</th>\n",
       "      <th>PREP</th>\n",
       "      <th>N2</th>\n",
       "      <th>...</th>\n",
       "      <th>N10300</th>\n",
       "      <th>A10300</th>\n",
       "      <th>N85530</th>\n",
       "      <th>A85530</th>\n",
       "      <th>N85300</th>\n",
       "      <th>A85300</th>\n",
       "      <th>N11901</th>\n",
       "      <th>A11901</th>\n",
       "      <th>N11902</th>\n",
       "      <th>A11902</th>\n",
       "    </tr>\n",
       "  </thead>\n",
       "  <tbody>\n",
       "    <tr>\n",
       "      <th>102602</th>\n",
       "      <td>36</td>\n",
       "      <td>NY</td>\n",
       "      <td>0</td>\n",
       "      <td>1</td>\n",
       "      <td>3445320</td>\n",
       "      <td>2355000</td>\n",
       "      <td>445210</td>\n",
       "      <td>595120</td>\n",
       "      <td>2114350</td>\n",
       "      <td>4860320</td>\n",
       "      <td>...</td>\n",
       "      <td>1713210</td>\n",
       "      <td>1659729</td>\n",
       "      <td>20</td>\n",
       "      <td>8</td>\n",
       "      <td>0</td>\n",
       "      <td>0</td>\n",
       "      <td>441650</td>\n",
       "      <td>387884</td>\n",
       "      <td>2729330</td>\n",
       "      <td>5662377</td>\n",
       "    </tr>\n",
       "    <tr>\n",
       "      <th>102603</th>\n",
       "      <td>36</td>\n",
       "      <td>NY</td>\n",
       "      <td>0</td>\n",
       "      <td>2</td>\n",
       "      <td>2124110</td>\n",
       "      <td>1162700</td>\n",
       "      <td>441680</td>\n",
       "      <td>474330</td>\n",
       "      <td>1285810</td>\n",
       "      <td>3760990</td>\n",
       "      <td>...</td>\n",
       "      <td>1816240</td>\n",
       "      <td>5000576</td>\n",
       "      <td>0</td>\n",
       "      <td>0</td>\n",
       "      <td>0</td>\n",
       "      <td>0</td>\n",
       "      <td>290630</td>\n",
       "      <td>482940</td>\n",
       "      <td>1801120</td>\n",
       "      <td>4662872</td>\n",
       "    </tr>\n",
       "    <tr>\n",
       "      <th>102604</th>\n",
       "      <td>36</td>\n",
       "      <td>NY</td>\n",
       "      <td>0</td>\n",
       "      <td>3</td>\n",
       "      <td>1297620</td>\n",
       "      <td>644300</td>\n",
       "      <td>399250</td>\n",
       "      <td>216270</td>\n",
       "      <td>829800</td>\n",
       "      <td>2372130</td>\n",
       "      <td>...</td>\n",
       "      <td>1257120</td>\n",
       "      <td>7572716</td>\n",
       "      <td>30</td>\n",
       "      <td>18</td>\n",
       "      <td>20</td>\n",
       "      <td>42</td>\n",
       "      <td>258810</td>\n",
       "      <td>585359</td>\n",
       "      <td>1013190</td>\n",
       "      <td>2932751</td>\n",
       "    </tr>\n",
       "    <tr>\n",
       "      <th>102605</th>\n",
       "      <td>36</td>\n",
       "      <td>NY</td>\n",
       "      <td>0</td>\n",
       "      <td>4</td>\n",
       "      <td>825090</td>\n",
       "      <td>307120</td>\n",
       "      <td>392040</td>\n",
       "      <td>99830</td>\n",
       "      <td>554500</td>\n",
       "      <td>1705160</td>\n",
       "      <td>...</td>\n",
       "      <td>816050</td>\n",
       "      <td>7895883</td>\n",
       "      <td>0</td>\n",
       "      <td>0</td>\n",
       "      <td>0</td>\n",
       "      <td>0</td>\n",
       "      <td>183170</td>\n",
       "      <td>543754</td>\n",
       "      <td>615490</td>\n",
       "      <td>2209076</td>\n",
       "    </tr>\n",
       "    <tr>\n",
       "      <th>102606</th>\n",
       "      <td>36</td>\n",
       "      <td>NY</td>\n",
       "      <td>0</td>\n",
       "      <td>5</td>\n",
       "      <td>1242910</td>\n",
       "      <td>293570</td>\n",
       "      <td>841180</td>\n",
       "      <td>82060</td>\n",
       "      <td>877120</td>\n",
       "      <td>3053270</td>\n",
       "      <td>...</td>\n",
       "      <td>1237140</td>\n",
       "      <td>23154728</td>\n",
       "      <td>16500</td>\n",
       "      <td>4382</td>\n",
       "      <td>3910</td>\n",
       "      <td>2224</td>\n",
       "      <td>343770</td>\n",
       "      <td>1668063</td>\n",
       "      <td>840920</td>\n",
       "      <td>4104126</td>\n",
       "    </tr>\n",
       "  </tbody>\n",
       "</table>\n",
       "<p>5 rows × 147 columns</p>\n",
       "</div>"
      ],
      "text/plain": [
       "        STATEFIPS STATE  zipcode  agi_stub       N1    mars1   MARS2   MARS4  \\\n",
       "102602         36    NY        0         1  3445320  2355000  445210  595120   \n",
       "102603         36    NY        0         2  2124110  1162700  441680  474330   \n",
       "102604         36    NY        0         3  1297620   644300  399250  216270   \n",
       "102605         36    NY        0         4   825090   307120  392040   99830   \n",
       "102606         36    NY        0         5  1242910   293570  841180   82060   \n",
       "\n",
       "           PREP       N2   ...      N10300    A10300  N85530  A85530  N85300  \\\n",
       "102602  2114350  4860320   ...     1713210   1659729      20       8       0   \n",
       "102603  1285810  3760990   ...     1816240   5000576       0       0       0   \n",
       "102604   829800  2372130   ...     1257120   7572716      30      18      20   \n",
       "102605   554500  1705160   ...      816050   7895883       0       0       0   \n",
       "102606   877120  3053270   ...     1237140  23154728   16500    4382    3910   \n",
       "\n",
       "        A85300  N11901   A11901   N11902   A11902  \n",
       "102602       0  441650   387884  2729330  5662377  \n",
       "102603       0  290630   482940  1801120  4662872  \n",
       "102604      42  258810   585359  1013190  2932751  \n",
       "102605       0  183170   543754   615490  2209076  \n",
       "102606    2224  343770  1668063   840920  4104126  \n",
       "\n",
       "[5 rows x 147 columns]"
      ]
     },
     "execution_count": 6,
     "metadata": {},
     "output_type": "execute_result"
    }
   ],
   "source": [
    "df_incomeNY = df_income[df_income['STATE'] == 'NY']\n",
    "df_incomeNY.head()"
   ]
  },
  {
   "cell_type": "markdown",
   "metadata": {
    "deletable": true,
    "editable": true
   },
   "source": [
    "We only need four columns from this dataset for our analysis:\n",
    "    - zipcode\n",
    "    - agi_stub (adjusted gross income bracket from 1-6)\n",
    "    - N1 (number of returns)\n",
    "    - A02650 (total income amount)"
   ]
  },
  {
   "cell_type": "code",
   "execution_count": 7,
   "metadata": {
    "collapsed": false,
    "deletable": true,
    "editable": true
   },
   "outputs": [
    {
     "name": "stdout",
     "output_type": "stream",
     "text": [
      "Example printout of zipcode 10001\n"
     ]
    },
    {
     "data": {
      "text/html": [
       "<div>\n",
       "<table border=\"1\" class=\"dataframe\">\n",
       "  <thead>\n",
       "    <tr style=\"text-align: right;\">\n",
       "      <th></th>\n",
       "      <th>zipcode</th>\n",
       "      <th>agi_stub</th>\n",
       "      <th>A02650</th>\n",
       "      <th>N1</th>\n",
       "    </tr>\n",
       "  </thead>\n",
       "  <tbody>\n",
       "    <tr>\n",
       "      <th>12</th>\n",
       "      <td>10001</td>\n",
       "      <td>1</td>\n",
       "      <td>44849</td>\n",
       "      <td>3740</td>\n",
       "    </tr>\n",
       "    <tr>\n",
       "      <th>13</th>\n",
       "      <td>10001</td>\n",
       "      <td>2</td>\n",
       "      <td>94324</td>\n",
       "      <td>2500</td>\n",
       "    </tr>\n",
       "    <tr>\n",
       "      <th>14</th>\n",
       "      <td>10001</td>\n",
       "      <td>3</td>\n",
       "      <td>123197</td>\n",
       "      <td>1950</td>\n",
       "    </tr>\n",
       "    <tr>\n",
       "      <th>15</th>\n",
       "      <td>10001</td>\n",
       "      <td>4</td>\n",
       "      <td>123605</td>\n",
       "      <td>1410</td>\n",
       "    </tr>\n",
       "    <tr>\n",
       "      <th>16</th>\n",
       "      <td>10001</td>\n",
       "      <td>5</td>\n",
       "      <td>366195</td>\n",
       "      <td>2580</td>\n",
       "    </tr>\n",
       "    <tr>\n",
       "      <th>17</th>\n",
       "      <td>10001</td>\n",
       "      <td>6</td>\n",
       "      <td>1570914</td>\n",
       "      <td>2340</td>\n",
       "    </tr>\n",
       "  </tbody>\n",
       "</table>\n",
       "</div>"
      ],
      "text/plain": [
       "    zipcode  agi_stub   A02650    N1\n",
       "12    10001         1    44849  3740\n",
       "13    10001         2    94324  2500\n",
       "14    10001         3   123197  1950\n",
       "15    10001         4   123605  1410\n",
       "16    10001         5   366195  2580\n",
       "17    10001         6  1570914  2340"
      ]
     },
     "execution_count": 7,
     "metadata": {},
     "output_type": "execute_result"
    }
   ],
   "source": [
    "#Group the NY income data by Zipcode, Income Bracket, and Number of Returns (frequency)\n",
    "df_incomeNY = df_incomeNY.groupby(['zipcode','agi_stub','A02650'], as_index=False).agg({'N1':'sum'})\n",
    "\n",
    "print(\"Example printout of zipcode 10001\")\n",
    "df_incomeNY[df_incomeNY.zipcode == 10001]"
   ]
  },
  {
   "cell_type": "markdown",
   "metadata": {
    "deletable": true,
    "editable": true
   },
   "source": [
    "Now, we should check for how complete this NY income dataset is. Bear in mind that the dataset includes data for residents outside of the five boroughs of New York City as well. <br>\n",
    "<br>\n",
    "Using the list of zip codes from the NYC Open Data site, we compare the list of NYC zipcodes against the NY income dataset. We find that there are 4,281,820 tax returns from NYC in the dataset, which is approximately half of the actual NYC population of 8.6 million. <br> \n",
    "<br>\n",
    "According to 2017 estimates of age distribution in New York City by Baruch College, approximately 57.2% of the population are ages 20 to 59 years old. That means nearly 4.9 million people are assumed/eligible to have income tax returns. While the income dataset does not quite match the actual figures of people in New York City, it is still reasonable to conclude that the dataset serves as a good representation of income distribution for NYC.\n",
    "<br>\n",
    "<br>\n",
    "Zip Code Breakdowns for NYC - Updated September 2018<br>\n",
    "https://data.cityofnewyork.us/City-Government/Zip-code-breakdowns/6bic-qvek\n",
    "<br>\n",
    "<br>\n",
    "Age Distribution of NYC - Updated 2017 <br>\n",
    "https://www.baruch.cuny.edu/nycdata/population-geography/age_distribution.htm"
   ]
  },
  {
   "cell_type": "code",
   "execution_count": 8,
   "metadata": {
    "collapsed": false,
    "deletable": true,
    "editable": true
   },
   "outputs": [
    {
     "name": "stdout",
     "output_type": "stream",
     "text": [
      "There are 4281820 returns in the dataset from the NYC area\n"
     ]
    }
   ],
   "source": [
    "#looking at how many returns in the dataset are from the NYC area\n",
    "\n",
    "#list of NYC zipcodes\n",
    "cols2 = [\"10001\",\"10002\",\"10003\",\"10004\",\"10005\",\"10006\",\"10007\",\"10009\",\"10010\",\"10011\",\"10012\",\"10013\",\"10014\",\n",
    "         \"10016\",\"10017\",\"10018\",\"10019\",\"10020\",\"10021\",\"10022\",\"10023\",\"10024\",\"10025\",\"10026\",\"10027\",\"10028\",\n",
    "         \"10029\",\"10030\",\"10031\",\"10032\",\"10033\",\"10034\",\"10035\",\"10036\",\"10037\",\"10038\",\"10039\",\"10040\",\"10044\",\n",
    "         \"10045\",\"10065\",\"10115\",\"10119\",\"10128\",\"10154\",\"10278\",\"10280\",\"10301\",\"10302\",\"10303\",\"10304\",\"10305\",\n",
    "         \"10306\",\"10307\",\"10309\",\"10310\",\"10312\",\"10314\",\"10451\",\"10452\",\"10453\",\"10454\",\"10455\",\"10456\",\"10457\",\n",
    "         \"10458\",\"10459\",\"10460\",\"10461\",\"10462\",\"10463\",\"10464\",\"10465\",\"10466\",\"10467\",\"10468\",\"10469\",\"10471\",\n",
    "         \"10472\",\"10473\",\"10474\",\"10475\",\"10514\",\"10543\",\"10553\",\"10573\",\"10701\",\"10705\",\"10911\",\"10965\",\"10977\",\n",
    "         \"11001\",\"11021\",\"11050\",\"11101\",\"11102\",\"11103\",\"11104\",\"11105\",\"11106\",\"11111\",\"11112\",\"11201\",\"11202\",\n",
    "         \"11203\",\"11204\",\"11205\",\"11206\",\"11207\",\"11208\",\"11209\",\"11210\",\"11211\",\"11212\",\"11213\",\"11214\",\"11215\",\n",
    "         \"11216\",\"11217\",\"11218\",\"11219\",\"11220\",\"11221\",\"11222\",\"11223\",\"11224\",\"11225\",\"11226\",\"11228\",\"11229\",\n",
    "         \"11230\",\"11231\",\"11232\",\"11233\",\"11234\",\"11235\",\"11236\",\"11237\",\"11238\",\"11239\",\"11252\",\"11354\",\"11355\",\n",
    "         \"11356\",\"11357\",\"11358\",\"11360\",\"11361\",\"11362\",\"11364\",\"11365\",\"11366\",\"11367\",\"11368\",\"11369\",\"11370\",\n",
    "         \"11371\",\"11372\",\"11373\",\"11374\",\"11375\",\"11377\",\"11378\",\"11379\",\"11385\",\"11411\",\"11412\",\"11413\",\"11414\",\n",
    "         \"11415\",\"11416\",\"11417\",\"11418\",\"11419\",\"11420\",\"11421\",\"11422\",\"11423\",\"11424\",\"11425\",\"11426\",\"11427\",\n",
    "         \"11428\",\"11429\",\"11430\",\"11431\",\"11432\",\"11433\",\"11434\",\"11435\",\"11436\",\"11439\",\"11451\",\"11471\",\"11510\",\n",
    "         \"11548\",\"11566\",\"11577\",\"11580\",\"11598\",\"11629\",\"11691\",\"11692\",\"11693\",\"11694\",\"11695\",\"11731\",\"11798\",\n",
    "         \"11968\",\"12423\",\"12428\",\"12435\",\"12458\",\"12466\",\"12473\",\"12528\",\"12701\",\"12733\",\"12734\",\"12737\",\"12750\",\n",
    "         \"12751\",\"12754\",\"12758\",\"12759\",\"12763\",\"12764\",\"12768\",\"12779\",\"12783\",\"12786\",\"12788\",\"12789\",\"13731\",\n",
    "         \"16091\",\"20459\"]\n",
    "list_zips = list(map(int,cols2))\n",
    "\n",
    "test = df_incomeNY[df_incomeNY['zipcode'].isin(list_zips)]\n",
    "\n",
    "print(\"There are\",test['N1'].sum(),\"returns in the dataset from the NYC area\")"
   ]
  },
  {
   "cell_type": "markdown",
   "metadata": {},
   "source": [
    "Since there are 6 income brackets for each zipcode, we will aggregate the Total Income, Number of Returns, and Mean Income columns and group them according to zip code."
   ]
  },
  {
   "cell_type": "code",
   "execution_count": 9,
   "metadata": {
    "collapsed": false
   },
   "outputs": [],
   "source": [
    "df_incomeNY=df_incomeNY.groupby('zipcode')['A02650','N1'].agg('sum')\n",
    "df_incomeNY.reset_index()\n",
    "df_incomeNY['average'] = df_incomeNY['A02650']/df_incomeNY['N1']\n",
    "df_incomeNY['average'] = df_incomeNY['average'].apply(lambda x:x*1000).round(2)\n",
    "df_incomeNY = df_incomeNY.reset_index()\n",
    "df_incomeNY['zipcode'] = df_incomeNY.zipcode.astype(str)\n",
    "df_incomeNY.columns=['Zipcode','Total Income','Number of Returns','Average Income']\n"
   ]
  },
  {
   "cell_type": "code",
   "execution_count": 10,
   "metadata": {
    "collapsed": false
   },
   "outputs": [
    {
     "data": {
      "text/html": [
       "<div>\n",
       "<table border=\"1\" class=\"dataframe\">\n",
       "  <thead>\n",
       "    <tr style=\"text-align: right;\">\n",
       "      <th></th>\n",
       "      <th>Zipcode</th>\n",
       "      <th>Total Income</th>\n",
       "      <th>Number of Returns</th>\n",
       "      <th>Average Income</th>\n",
       "    </tr>\n",
       "  </thead>\n",
       "  <tbody>\n",
       "    <tr>\n",
       "      <th>0</th>\n",
       "      <td>0</td>\n",
       "      <td>795119305</td>\n",
       "      <td>9468070</td>\n",
       "      <td>83979.03</td>\n",
       "    </tr>\n",
       "    <tr>\n",
       "      <th>1</th>\n",
       "      <td>6390</td>\n",
       "      <td>11750</td>\n",
       "      <td>150</td>\n",
       "      <td>78333.33</td>\n",
       "    </tr>\n",
       "    <tr>\n",
       "      <th>2</th>\n",
       "      <td>10001</td>\n",
       "      <td>2323084</td>\n",
       "      <td>14520</td>\n",
       "      <td>159992.01</td>\n",
       "    </tr>\n",
       "    <tr>\n",
       "      <th>3</th>\n",
       "      <td>10002</td>\n",
       "      <td>2313723</td>\n",
       "      <td>42180</td>\n",
       "      <td>54853.56</td>\n",
       "    </tr>\n",
       "    <tr>\n",
       "      <th>4</th>\n",
       "      <td>10003</td>\n",
       "      <td>6720746</td>\n",
       "      <td>28660</td>\n",
       "      <td>234499.16</td>\n",
       "    </tr>\n",
       "  </tbody>\n",
       "</table>\n",
       "</div>"
      ],
      "text/plain": [
       "  Zipcode  Total Income  Number of Returns  Average Income\n",
       "0       0     795119305            9468070        83979.03\n",
       "1    6390         11750                150        78333.33\n",
       "2   10001       2323084              14520       159992.01\n",
       "3   10002       2313723              42180        54853.56\n",
       "4   10003       6720746              28660       234499.16"
      ]
     },
     "execution_count": 10,
     "metadata": {},
     "output_type": "execute_result"
    }
   ],
   "source": [
    "df_incomeNY.head()"
   ]
  },
  {
   "cell_type": "markdown",
   "metadata": {
    "deletable": true,
    "editable": true
   },
   "source": [
    "# Finding Correlation Between Income and Playground Availability\n",
    "Now that we cleaned up the park and playground datasets, as well as the NY income dataset, we can use the utilize the data to determine if there is a relationship between income and playground availability in a zip code.\n",
    "\n",
    "After we merge the NY income dataset with the Park/Playground compatible dataset, we get a DataFrame that shows the Mean and Median Incomes, as well as the number of Parks and Playgrounds, for each zipcode."
   ]
  },
  {
   "cell_type": "code",
   "execution_count": 11,
   "metadata": {
    "collapsed": false,
    "deletable": true,
    "editable": true
   },
   "outputs": [
    {
     "data": {
      "text/html": [
       "<div>\n",
       "<table border=\"1\" class=\"dataframe\">\n",
       "  <thead>\n",
       "    <tr style=\"text-align: right;\">\n",
       "      <th></th>\n",
       "      <th>Zipcode</th>\n",
       "      <th>Total Income</th>\n",
       "      <th>Number of Returns</th>\n",
       "      <th>Average Income</th>\n",
       "      <th>No. of Parks</th>\n",
       "      <th>No. of Playgrounds</th>\n",
       "      <th>char_length_zipcode</th>\n",
       "    </tr>\n",
       "  </thead>\n",
       "  <tbody>\n",
       "    <tr>\n",
       "      <th>254</th>\n",
       "      <td>11211</td>\n",
       "      <td>2360597.0</td>\n",
       "      <td>30950.0</td>\n",
       "      <td>76271.31</td>\n",
       "      <td>40.0</td>\n",
       "      <td>13.0</td>\n",
       "      <td>5.0</td>\n",
       "    </tr>\n",
       "    <tr>\n",
       "      <th>245</th>\n",
       "      <td>11201</td>\n",
       "      <td>6307963.0</td>\n",
       "      <td>31970.0</td>\n",
       "      <td>197308.82</td>\n",
       "      <td>27.0</td>\n",
       "      <td>10.0</td>\n",
       "      <td>5.0</td>\n",
       "    </tr>\n",
       "    <tr>\n",
       "      <th>3</th>\n",
       "      <td>10002</td>\n",
       "      <td>2313723.0</td>\n",
       "      <td>42180.0</td>\n",
       "      <td>54853.56</td>\n",
       "      <td>25.0</td>\n",
       "      <td>23.0</td>\n",
       "      <td>5.0</td>\n",
       "    </tr>\n",
       "    <tr>\n",
       "      <th>255</th>\n",
       "      <td>11212</td>\n",
       "      <td>1196980.0</td>\n",
       "      <td>38370.0</td>\n",
       "      <td>31195.73</td>\n",
       "      <td>22.0</td>\n",
       "      <td>19.0</td>\n",
       "      <td>5.0</td>\n",
       "    </tr>\n",
       "    <tr>\n",
       "      <th>61</th>\n",
       "      <td>10314</td>\n",
       "      <td>2898644.0</td>\n",
       "      <td>40740.0</td>\n",
       "      <td>71149.83</td>\n",
       "      <td>21.0</td>\n",
       "      <td>12.0</td>\n",
       "      <td>5.0</td>\n",
       "    </tr>\n",
       "  </tbody>\n",
       "</table>\n",
       "</div>"
      ],
      "text/plain": [
       "    Zipcode  Total Income  Number of Returns  Average Income  No. of Parks  \\\n",
       "254   11211     2360597.0            30950.0        76271.31          40.0   \n",
       "245   11201     6307963.0            31970.0       197308.82          27.0   \n",
       "3     10002     2313723.0            42180.0        54853.56          25.0   \n",
       "255   11212     1196980.0            38370.0        31195.73          22.0   \n",
       "61    10314     2898644.0            40740.0        71149.83          21.0   \n",
       "\n",
       "     No. of Playgrounds  char_length_zipcode  \n",
       "254                13.0                  5.0  \n",
       "245                10.0                  5.0  \n",
       "3                  23.0                  5.0  \n",
       "255                19.0                  5.0  \n",
       "61                 12.0                  5.0  "
      ]
     },
     "execution_count": 11,
     "metadata": {},
     "output_type": "execute_result"
    }
   ],
   "source": [
    "df_aggregate = pd.merge(df_incomeNY,df_allparksCompatible,on='Zipcode',how='outer')\n",
    "df_aggregate = df_aggregate.sort_values(by=['No. of Parks'],ascending=False)\n",
    "\n",
    "df_aggregate.head()"
   ]
  },
  {
   "cell_type": "markdown",
   "metadata": {
    "collapsed": true,
    "deletable": true,
    "editable": true
   },
   "source": [
    "We generate a statistical correlation matrix to determine the correlation between each column: Mean Income, Median Income, Number of Parks, and Number of Playgrounds. The matrix generates Pearson correlation coefficients, which indicate the linear correlation between two variables.\n",
    "\n",
    "Pearson correlation coefficients range from -1 to 1. <br>\n",
    "-1 means that there is a perfectly negative correlation. <br>\n",
    "+1 means that there is a perfectly positive correlation. <br>\n",
    "0 means that there is no correlation."
   ]
  },
  {
   "cell_type": "code",
   "execution_count": 13,
   "metadata": {
    "collapsed": false,
    "deletable": true,
    "editable": true
   },
   "outputs": [
    {
     "data": {
      "text/html": [
       "<div>\n",
       "<table border=\"1\" class=\"dataframe\">\n",
       "  <thead>\n",
       "    <tr style=\"text-align: right;\">\n",
       "      <th></th>\n",
       "      <th>Total Income</th>\n",
       "      <th>Number of Returns</th>\n",
       "      <th>Average Income</th>\n",
       "      <th>No. of Parks</th>\n",
       "      <th>No. of Playgrounds</th>\n",
       "    </tr>\n",
       "  </thead>\n",
       "  <tbody>\n",
       "    <tr>\n",
       "      <th>Total Income</th>\n",
       "      <td>1.000000</td>\n",
       "      <td>0.999173</td>\n",
       "      <td>0.029954</td>\n",
       "      <td>0.003883</td>\n",
       "      <td>-0.129877</td>\n",
       "    </tr>\n",
       "    <tr>\n",
       "      <th>Number of Returns</th>\n",
       "      <td>0.999173</td>\n",
       "      <td>1.000000</td>\n",
       "      <td>0.005205</td>\n",
       "      <td>0.440435</td>\n",
       "      <td>0.646595</td>\n",
       "    </tr>\n",
       "    <tr>\n",
       "      <th>Average Income</th>\n",
       "      <td>0.029954</td>\n",
       "      <td>0.005205</td>\n",
       "      <td>1.000000</td>\n",
       "      <td>-0.218538</td>\n",
       "      <td>-0.398991</td>\n",
       "    </tr>\n",
       "    <tr>\n",
       "      <th>No. of Parks</th>\n",
       "      <td>0.003883</td>\n",
       "      <td>0.440435</td>\n",
       "      <td>-0.218538</td>\n",
       "      <td>1.000000</td>\n",
       "      <td>0.726582</td>\n",
       "    </tr>\n",
       "    <tr>\n",
       "      <th>No. of Playgrounds</th>\n",
       "      <td>-0.129877</td>\n",
       "      <td>0.646595</td>\n",
       "      <td>-0.398991</td>\n",
       "      <td>0.726582</td>\n",
       "      <td>1.000000</td>\n",
       "    </tr>\n",
       "  </tbody>\n",
       "</table>\n",
       "</div>"
      ],
      "text/plain": [
       "                    Total Income  Number of Returns  Average Income  \\\n",
       "Total Income            1.000000           0.999173        0.029954   \n",
       "Number of Returns       0.999173           1.000000        0.005205   \n",
       "Average Income          0.029954           0.005205        1.000000   \n",
       "No. of Parks            0.003883           0.440435       -0.218538   \n",
       "No. of Playgrounds     -0.129877           0.646595       -0.398991   \n",
       "\n",
       "                    No. of Parks  No. of Playgrounds  \n",
       "Total Income            0.003883           -0.129877  \n",
       "Number of Returns       0.440435            0.646595  \n",
       "Average Income         -0.218538           -0.398991  \n",
       "No. of Parks            1.000000            0.726582  \n",
       "No. of Playgrounds      0.726582            1.000000  "
      ]
     },
     "execution_count": 13,
     "metadata": {},
     "output_type": "execute_result"
    }
   ],
   "source": [
    "corrmatrix = df_aggregate.corr()\n",
    "corrmatrix=corrmatrix.drop(['char_length_zipcode'],axis=1)\n",
    "corrmatrix=corrmatrix.drop(['char_length_zipcode'],axis=0)\n",
    "corrmatrix"
   ]
  },
  {
   "cell_type": "markdown",
   "metadata": {
    "collapsed": true,
    "deletable": true,
    "editable": true
   },
   "source": [
    "As we can see from the results, there is a __moderately strong negative correlation__ between Mean Income and the Number of Playgrounds in any given area in NYC. <br>\n",
    ">Correlation between Mean Income and Number of Playgrounds: -0.399 <br>\n",
    "> Correlation between Total Income and Number of Playgrounds: -0.13 <br>\n",
    "<br  />\n",
    "> Correlation between Mean Income and Number of Parks: -0.219 <br>\n",
    "> Correlation between Total Income and Number of Parks: 0 <br>"
   ]
  },
  {
   "cell_type": "markdown",
   "metadata": {
    "deletable": true,
    "editable": true
   },
   "source": [
    "This means that as average income increases in a zipcode, the number of playgrounds decreases.\n",
    "While there is evidence of a relationship between income and playground availability, the relationship between income and park availability is still inconclusive due to their weakly negative correlation coefficients."
   ]
  },
  {
   "cell_type": "markdown",
   "metadata": {
    "deletable": true,
    "editable": true
   },
   "source": [
    "# Data Visualization - Choropleth Map\n",
    "To visualize the datasets used in this analysis, we can create a choropleth map. Through color coding and shading, a choropleth map is a great way to see the differences in income or number of parks/playgrounds in any given area. <br>\n",
    "<br>\n",
    "First we import the relevant libraries."
   ]
  },
  {
   "cell_type": "code",
   "execution_count": 14,
   "metadata": {
    "collapsed": true,
    "deletable": true,
    "editable": true
   },
   "outputs": [],
   "source": [
    "import folium\n",
    "#import json\n",
    "#from IPython.display import HTML, display"
   ]
  },
  {
   "cell_type": "markdown",
   "metadata": {
    "deletable": true,
    "editable": true
   },
   "source": [
    "The following code will generate an interactive choropleth map of New York City.<br>\n",
    "An HTML file labeled 'NYC Choropleth Map' will generate in the folder. This is where the map will be published. The file can be opened in a browser.<br>\n",
    "<br>\n",
    "Using the New York Zip Code GeoJson file from Github user enactdev, the zip code area outlines were shaped in the map. The shape file was originally sourced from the US Census Bureau site. <br> \n",
    "https://github.com/OpenDataDE/State-zip-code-GeoJSON <br>\n",
    "<br>\n",
    "https://www.census.gov/cgi-bin/geo/shapefiles2010/main <br>\n",
    "<br>\n",
    "The interactive map will have three overlays: Park Density Map, Income Map, and Playground Map.\n",
    "Feel free to toggle the overlay views to see a certain map. For the Income Map, you can hover over any area to see more information regarding mean and median incomes in the area. For the Park Density Map, you can hover over any area to see more information regarding the number of parks and playgrounds in that area. The individual red dots from the Playground Map indicate playground locations.\n",
    "\n",
    "__Important information:__\n",
    "In the original playground dataset, 1245 playgrounds had data on longitude and latitude, even though most did not have zipcode data. The Playground Choropleth Map was generated using this longitude and latitude information. However, the Park Density Map was generated using the merged dataset between the NY Income and the Park/Playground compatible dataset. This dataset had a total of 1037 playgrounds and are linked to zipcodes. Thus, there are discrepancies in the playground figures between the Park Density Map and the Playground Map."
   ]
  },
  {
   "cell_type": "code",
   "execution_count": 15,
   "metadata": {
    "collapsed": true,
    "deletable": true,
    "editable": true
   },
   "outputs": [],
   "source": [
    "import geopandas as gpd\n",
    "zips = gpd.read_file('ny_new_york_zip_codes_geo.min.json')"
   ]
  },
  {
   "cell_type": "markdown",
   "metadata": {},
   "source": [
    "We modify the geoJSON file by merging it with our aggregated dataframe containing income, park, and playground information according to zip code. Modified geoJSON file has been provided in the repository."
   ]
  },
  {
   "cell_type": "code",
   "execution_count": null,
   "metadata": {
    "collapsed": false,
    "deletable": true,
    "editable": true
   },
   "outputs": [],
   "source": [
    "zips2 = pd.merge(zips, df_aggregate, left_on = 'ZCTA5CE10', right_on='Zipcode',how='left')\n",
    "zips2 = zips2.drop(['Zipcode'],axis=1)\n",
    "zips2 = zips2.rename(columns={'ZCTA5CE10':'ZipCode'})\n",
    "#zips2\n",
    "zips2.to_file('ny_new_york_zip_codes4_geo.min.json', driver='GeoJSON')"
   ]
  },
  {
   "cell_type": "markdown",
   "metadata": {},
   "source": [
    "In addition to the geoJSON shape file, we also set up JSON files containing aggregates of our park and income information—each linked to zip codes so that we know which income and park information belongs to which area. JSON files have been provided in the repository."
   ]
  },
  {
   "cell_type": "code",
   "execution_count": null,
   "metadata": {
    "collapsed": true
   },
   "outputs": [],
   "source": [
    "#setup the park count data from the original park dataset\n",
    "data_parks = pd.DataFrame(df_park['Zip'].value_counts())\n",
    "data_parks.to_json('parkagg.json')\n",
    "data_parks=data_parks.reset_index()\n",
    "data_parks.columns=['ZipCode','No_Of_Parks']\n",
    "\n",
    "#setup the mean income data from the aggregate dataset\n",
    "data_income = df_aggregate.groupby('Zipcode',as_index=False).agg({'Average Income':'sum'})\n",
    "data_income.columns=['ZipCode','Mean_Income']\n",
    "data_income.to_json('incomeagg.json')"
   ]
  },
  {
   "cell_type": "code",
   "execution_count": null,
   "metadata": {
    "collapsed": false,
    "deletable": true,
    "editable": true
   },
   "outputs": [],
   "source": [
    "#initialize the geojson file\n",
    "district_geo = r'ny_new_york_zip_codes4_geo.min.json'\n",
    "\n",
    "#setup the longitude and latitude data from the original playground dataset\n",
    "df_playground_available = df_playground[df_playground.lat.notnull() & df_playground.lon.notnull()]\n",
    "\n",
    "#set up the NYC area\n",
    "map1 = folium.Map(location = [40.75, -73.99], zoom_start=12)\n",
    "\n",
    "#plot choropleth map of park density\n",
    "chloropleth = folium.Choropleth(\n",
    "    geo_data = district_geo,\n",
    "    data_out = 'parkagg.json',\n",
    "    data=data_parks,\n",
    "    columns = ['ZipCode','No_Of_Parks'],\n",
    "    key_on='feature.properties.ZipCode',\n",
    "    fill_color = 'YlGn',\n",
    "    fill_opacity = 0.7,\n",
    "    line_opacity = 0.2,\n",
    "    legend_name = 'Number of parks per Zip',\n",
    "    name = 'Park Density Map',\n",
    "    overlay = True,\n",
    "    highlight = True).add_to(map1)\n",
    "\n",
    "#plot choropleth map of income density\n",
    "chloropleth2 = folium.Choropleth(\n",
    "    geo_data = district_geo,\n",
    "    data_out = 'incomeagg.json',\n",
    "    data = data_income,\n",
    "    columns = ['ZipCode','Mean_Income'],\n",
    "    key_on = 'feature.properties.ZipCode',\n",
    "    fill_color = 'PuBu',\n",
    "    fill_opacity = 0.7,\n",
    "    line_opacity = 0.2,\n",
    "    legend_name = 'Mean Income per Zip',\n",
    "    name = 'Income Map',\n",
    "    overlay = True,\n",
    "    highlight = True).add_to(map1)\n",
    "\n",
    "#plot available playgrounds based on their coordinates\n",
    "playgrounds = folium.FeatureGroup(name='Playground Map').add_to(map1)\n",
    "for i,row in df_playground_available.iterrows():\n",
    "    folium.CircleMarker((row.lat,row.lon), radius=3, weight=2, \n",
    "                        color='red', fill_color='red', fill_opacity=.5, \n",
    "                        popup=row.Name, tooltip=row.Name).add_to(playgrounds)\n",
    "\n",
    "folium.LayerControl(collapsed=False).add_to(map1)\n",
    "\n",
    "#add hover effects for both maps\n",
    "chloropleth.geojson.add_child(\n",
    "    folium.features.GeoJsonTooltip(['ZipCode','No. of Parks','No. of Playgrounds']))\n",
    "chloropleth2.geojson.add_child(\n",
    "    folium.features.GeoJsonTooltip(['ZipCode','Average Income','Total Income'], localize=True))\n",
    "\n",
    "\n",
    "#display(map1)\n",
    "map1.save('NYC_Choropleth_Map.html')"
   ]
  },
  {
   "cell_type": "markdown",
   "metadata": {
    "deletable": true,
    "editable": true
   },
   "source": [
    "Done!\n"
   ]
  }
 ],
 "metadata": {
  "celltoolbar": "Raw Cell Format",
  "kernelspec": {
   "display_name": "Python 3",
   "language": "python",
   "name": "python3"
  },
  "language_info": {
   "codemirror_mode": {
    "name": "ipython",
    "version": 3
   },
   "file_extension": ".py",
   "mimetype": "text/x-python",
   "name": "python",
   "nbconvert_exporter": "python",
   "pygments_lexer": "ipython3",
   "version": "3.5.2"
  },
  "toc": {
   "base_numbering": 1,
   "nav_menu": {},
   "number_sections": true,
   "sideBar": true,
   "skip_h1_title": false,
   "title_cell": "Table of Contents",
   "title_sidebar": "Contents",
   "toc_cell": false,
   "toc_position": {},
   "toc_section_display": true,
   "toc_window_display": false
  }
 },
 "nbformat": 4,
 "nbformat_minor": 2
}
